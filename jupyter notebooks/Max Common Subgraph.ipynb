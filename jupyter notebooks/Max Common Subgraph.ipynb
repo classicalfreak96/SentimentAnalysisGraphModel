{
 "cells": [
  {
   "cell_type": "code",
   "execution_count": 9,
   "metadata": {},
   "outputs": [],
   "source": [
    "import networkx as nx\n",
    "import re"
   ]
  },
  {
   "cell_type": "code",
   "execution_count": 10,
   "metadata": {},
   "outputs": [],
   "source": [
    "#inputs: 1. big graph of positive reviews 2. small word graph for each tweet\n",
    "def getMCS(graphModel, tweetGraph): #taken from stackoverflow by Bonson\n",
    "    matching_graph=nx.Graph() #subgraph\n",
    "\n",
    "    for n1,n2,attr in tweetGraph.edges(data=True):\n",
    "        print(n1,n2,attr)\n",
    "        if graphModel.has_edge(n1,n2) :\n",
    "            matching_graph.add_edge(n1,n2,weight=1)\n",
    "\n",
    "    graphs = list(nx.connected_component_subgraphs(matching_graph))\n",
    "\n",
    "    mcs_length = 0\n",
    "    mcs_graph = nx.Graph() \n",
    "    \n",
    "    for i, graph in enumerate(graphs):                        #Finding maximum subgraph out of all graphs\n",
    "\n",
    "        if len(graph.nodes()) > mcs_length: \n",
    "            mcs_length = len(graph.nodes())\n",
    "            mcs_graph = graph\n",
    "\n",
    "    return mcs_graph\n",
    "\n",
    "def createGraph(text, wordGraph, frame):\n",
    "    if text:\n",
    "        text = re.sub(r'[^\\w\\s]', '', str(text))\n",
    "        text = text.split()\n",
    "        try:\n",
    "            for x in range(len(text) - frame):\n",
    "                for y in range(1, frame + 1):\n",
    "                    wordGraph.add_edge(text[x], text[x+y])\n",
    "            for x in reversed(range(1, frame + 1)):\n",
    "                for y in reversed(range(1, x)):\n",
    "                    wordGraph.add_edge(text[len(text) - x], text[len(text) - y])\n",
    "        except IndexError:\n",
    "            return createGraph(text, wordGraph, frame-1)\n",
    "        return wordGraph\n",
    "    else:\n",
    "        return wordGraph\n",
    "    \n",
    "def createGraphFromTweet(text, frame):\n",
    "    wordGraph = nx.DiGraph()\n",
    "    if type(text) == str:\n",
    "        createGraph(text, wordGraph, frame)\n",
    "    if type(text) == list:\n",
    "        for element in text:\n",
    "            createGraph(element, wordGraph, frame)\n",
    "    return wordGraph"
   ]
  },
  {
   "cell_type": "code",
   "execution_count": 13,
   "metadata": {},
   "outputs": [
    {
     "name": "stdout",
     "output_type": "stream",
     "text": [
      "['hello', 'my', 'name', 'is', 'michelle', 'I', 'love', 'harrison', 'and', 'i', 'ice', 'cream']\n"
     ]
    }
   ],
   "source": [
    "tweet = \"hello, my name is michelle. I love harrison and i love ice cream.\"\n",
    "wgraph = createGraphFromTweet(tweet, 3)\n"
   ]
  },
  {
   "cell_type": "code",
   "execution_count": null,
   "metadata": {},
   "outputs": [],
   "source": []
  }
 ],
 "metadata": {
  "kernelspec": {
   "display_name": "Python 3",
   "language": "python",
   "name": "python3"
  },
  "language_info": {
   "codemirror_mode": {
    "name": "ipython",
    "version": 3
   },
   "file_extension": ".py",
   "mimetype": "text/x-python",
   "name": "python",
   "nbconvert_exporter": "python",
   "pygments_lexer": "ipython3",
   "version": "3.6.5"
  }
 },
 "nbformat": 4,
 "nbformat_minor": 2
}
