{
 "cells": [
  {
   "cell_type": "code",
   "execution_count": 1,
   "metadata": {},
   "outputs": [
    {
     "data": {
      "text/html": [
       "<div>\n",
       "<style scoped>\n",
       "    .dataframe tbody tr th:only-of-type {\n",
       "        vertical-align: middle;\n",
       "    }\n",
       "\n",
       "    .dataframe tbody tr th {\n",
       "        vertical-align: top;\n",
       "    }\n",
       "\n",
       "    .dataframe thead th {\n",
       "        text-align: right;\n",
       "    }\n",
       "</style>\n",
       "<table border=\"1\" class=\"dataframe\">\n",
       "  <thead>\n",
       "    <tr style=\"text-align: right;\">\n",
       "      <th></th>\n",
       "      <th>sentiment</th>\n",
       "      <th>ID</th>\n",
       "      <th>date</th>\n",
       "      <th>query</th>\n",
       "      <th>username</th>\n",
       "      <th>text</th>\n",
       "    </tr>\n",
       "  </thead>\n",
       "  <tbody>\n",
       "    <tr>\n",
       "      <th>0</th>\n",
       "      <td>0</td>\n",
       "      <td>1467810369</td>\n",
       "      <td>mon apr 06 22:19:45 pdt 2009</td>\n",
       "      <td>no_query</td>\n",
       "      <td>_thespecialone_</td>\n",
       "      <td>@switchfoot http://twitpic.com/2y1zl - awww, t...</td>\n",
       "    </tr>\n",
       "    <tr>\n",
       "      <th>1</th>\n",
       "      <td>0</td>\n",
       "      <td>1467810672</td>\n",
       "      <td>mon apr 06 22:19:49 pdt 2009</td>\n",
       "      <td>no_query</td>\n",
       "      <td>scotthamilton</td>\n",
       "      <td>is upset that he can't update his facebook by ...</td>\n",
       "    </tr>\n",
       "    <tr>\n",
       "      <th>2</th>\n",
       "      <td>0</td>\n",
       "      <td>1467810917</td>\n",
       "      <td>mon apr 06 22:19:53 pdt 2009</td>\n",
       "      <td>no_query</td>\n",
       "      <td>mattycus</td>\n",
       "      <td>@kenichan i dived many times for the ball. man...</td>\n",
       "    </tr>\n",
       "    <tr>\n",
       "      <th>3</th>\n",
       "      <td>0</td>\n",
       "      <td>1467811184</td>\n",
       "      <td>mon apr 06 22:19:57 pdt 2009</td>\n",
       "      <td>no_query</td>\n",
       "      <td>ellectf</td>\n",
       "      <td>my whole body feels itchy and like its on fire</td>\n",
       "    </tr>\n",
       "    <tr>\n",
       "      <th>4</th>\n",
       "      <td>0</td>\n",
       "      <td>1467811193</td>\n",
       "      <td>mon apr 06 22:19:57 pdt 2009</td>\n",
       "      <td>no_query</td>\n",
       "      <td>karoli</td>\n",
       "      <td>@nationwideclass no, it's not behaving at all....</td>\n",
       "    </tr>\n",
       "  </tbody>\n",
       "</table>\n",
       "</div>"
      ],
      "text/plain": [
       "   sentiment          ID                          date     query  \\\n",
       "0          0  1467810369  mon apr 06 22:19:45 pdt 2009  no_query   \n",
       "1          0  1467810672  mon apr 06 22:19:49 pdt 2009  no_query   \n",
       "2          0  1467810917  mon apr 06 22:19:53 pdt 2009  no_query   \n",
       "3          0  1467811184  mon apr 06 22:19:57 pdt 2009  no_query   \n",
       "4          0  1467811193  mon apr 06 22:19:57 pdt 2009  no_query   \n",
       "\n",
       "          username                                               text  \n",
       "0  _thespecialone_  @switchfoot http://twitpic.com/2y1zl - awww, t...  \n",
       "1    scotthamilton  is upset that he can't update his facebook by ...  \n",
       "2         mattycus  @kenichan i dived many times for the ball. man...  \n",
       "3          ellectf    my whole body feels itchy and like its on fire   \n",
       "4           karoli  @nationwideclass no, it's not behaving at all....  "
      ]
     },
     "execution_count": 1,
     "metadata": {},
     "output_type": "execute_result"
    }
   ],
   "source": [
    "import csv\n",
    "import pandas as pd\n",
    "import matplotlib.pyplot as plt\n",
    "from io import StringIO\n",
    "\n",
    "\n",
    "# titles = '''sentiment, date, query, username, text'''\n",
    "df = pd.read_csv('./dataset/sentiment140/data.csv', encoding='latin-1', header = None)\n",
    "df.columns = ['sentiment', 'ID', 'date', 'query', 'username', 'text']\n",
    "\n",
    "df = df.applymap(lambda s: s.lower() if type(s) == str else s)\n",
    "df.head()"
   ]
  },
  {
   "cell_type": "code",
   "execution_count": 2,
   "metadata": {},
   "outputs": [],
   "source": [
    "dfTrain = df.sample(frac = 0.8, random_state = 20)\n",
    "dfTest = df.drop(dfTrain.index)\n",
    "\n",
    "dfGraphModel = dfTrain.sample(frac = 0.5, random_state = 20)\n",
    "dfDM = dfTrain.drop(dfGraphModel.index)\n",
    "\n",
    "#subset of the dfTrain dataset, split into positive, negative, and neutral tweets\n",
    "pos = dfGraphModel.loc[df['sentiment'] == 4]\n",
    "neg = dfGraphModel.loc[df['sentiment'] == 0]\n",
    "neut = dfGraphModel.loc[df['sentiment'] == 2]\n",
    "\n",
    "posText = {line[\"ID\"]: line[\"text\"] for index, line in pos.iterrows()}\n",
    "negText = {line[\"ID\"]: line[\"text\"] for index, line in neg.iterrows()}\n",
    "\n",
    "posWords = [line.rstrip('\\n') for line in open('./dataset/positive-words.txt') if line.split() and list(line)[0] != ';']\n",
    "negWords = [line.rstrip('\\n') for line in open('./dataset/negative-words.txt') if line.split() and list(line)[0] != \";\"]"
   ]
  },
  {
   "cell_type": "code",
   "execution_count": 3,
   "metadata": {},
   "outputs": [],
   "source": [
    "import re\n",
    "\n",
    "def scoreTweet(wordDict, wordList):\n",
    "    outputDict = {}\n",
    "    for ID, text in wordDict.items():\n",
    "        count = 0\n",
    "        text = re.sub(r'[^\\w\\s]', '', str(text)).split()\n",
    "        for word in text:\n",
    "            if word in wordList:\n",
    "                count += 1\n",
    "        outputDict[ID] = count\n",
    "    return outputDict\n",
    "\n",
    "posCount = scoreTweet(posText, posWords)\n",
    "negCount = scoreTweet(negText, negWords)"
   ]
  },
  {
   "cell_type": "code",
   "execution_count": 4,
   "metadata": {},
   "outputs": [],
   "source": [
    "import operator\n",
    "top5000Pos = [k for k, v in sorted(posCount.items(), key = operator.itemgetter(1), reverse = True)[:5000]]\n",
    "top5000Neg = [k for k, v in sorted(negCount.items(), key = operator.itemgetter(1), reverse = True)[:5000]]\n",
    "\n",
    "posGraphText = [posText[int(x)] for x in top5000Pos]\n",
    "negGraphText = [negText[int(x)] for x in top5000Neg]"
   ]
  },
  {
   "cell_type": "code",
   "execution_count": 5,
   "metadata": {},
   "outputs": [
    {
     "name": "stdout",
     "output_type": "stream",
     "text": [
      "['is', 'upset', 'that', 'he', \"can't\", 'update', 'his', 'facebook', 'by', 'texting', 'it...', 'and', 'might', 'cry', 'as', 'a', 'result', 'school', 'today', 'also.', 'blah!']\n",
      "[('is', 'upset'), ('is', 'that'), ('is', 'he'), ('upset', 'that'), ('upset', 'he'), ('upset', 'cant'), ('that', 'he'), ('that', 'cant'), ('that', 'update'), ('he', 'cant'), ('he', 'update'), ('he', 'his'), ('cant', 'update'), ('cant', 'his'), ('cant', 'facebook'), ('update', 'his'), ('update', 'facebook'), ('update', 'by'), ('his', 'facebook'), ('his', 'by'), ('his', 'texting'), ('facebook', 'by'), ('facebook', 'texting'), ('facebook', 'it'), ('by', 'texting'), ('by', 'it'), ('by', 'and'), ('texting', 'it'), ('texting', 'and'), ('texting', 'might'), ('it', 'and'), ('it', 'might'), ('it', 'cry'), ('and', 'might'), ('and', 'cry'), ('and', 'as'), ('might', 'cry'), ('might', 'as'), ('might', 'a'), ('cry', 'as'), ('cry', 'a'), ('cry', 'result'), ('as', 'a'), ('as', 'result'), ('as', 'school'), ('a', 'result'), ('a', 'school'), ('a', 'today'), ('result', 'school'), ('result', 'today'), ('result', 'also'), ('school', 'today'), ('school', 'also'), ('school', 'blah'), ('today', 'also'), ('today', 'blah'), ('also', 'blah')]\n"
     ]
    },
    {
     "data": {
      "image/png": "[encoded data removed]",
      "text/plain": [
       "<Figure size 432x288 with 1 Axes>"
      ]
     },
     "metadata": {},
     "output_type": "display_data"
    }
   ],
   "source": [
    "import networkx as nx\n",
    "import re\n",
    "\n",
    "# wordGraph = nx.DiGraph()\n",
    "\n",
    "testTweet = str(df.loc[1, 'text'])\n",
    "\n",
    "testTweet1 = re.sub(r'[^\\w\\s]', '', testTweet)\n",
    "\n",
    "testTweet1 = testTweet.split()\n",
    "\n",
    "print(testTweet1)\n",
    "\n",
    "\n",
    "def createGraph(text, frame):\n",
    "    if text:\n",
    "        wordGraph = nx.DiGraph()\n",
    "        text = re.sub(r'[^\\w\\s]', '', str(text))\n",
    "        text = text.split()\n",
    "        try:\n",
    "            for x in range(len(text) - frame):\n",
    "                for y in range(1, frame + 1):\n",
    "                    wordGraph.add_edge(text[x], text[x+y])\n",
    "            for x in reversed(range(1, frame + 1)):\n",
    "                for y in reversed(range(1, x)):\n",
    "                    wordGraph.add_edge(text[len(text) - x], text[len(text) - y])\n",
    "        except IndexError:\n",
    "            return createGraph(text, frame-1)\n",
    "        return wordGraph\n",
    "    else:\n",
    "        return None\n",
    "\n",
    "wordGraph = createGraph(testTweet, 3)\n",
    "print(wordGraph.edges())\n",
    "\n",
    "nx.draw_shell(wordGraph)"
   ]
  },
  {
   "cell_type": "code",
   "execution_count": 6,
   "metadata": {
    "scrolled": true
   },
   "outputs": [],
   "source": [
    "#generate average graph model of positive tweets\n",
    "import numpy as np\n",
    "posGraph = nx.DiGraph()\n",
    "\n",
    "for element in posGraphText:\n",
    "    graph = createGraph(element, 3)\n",
    "    posGraph = nx.compose(posGraph, graph)"
   ]
  },
  {
   "cell_type": "code",
   "execution_count": 7,
   "metadata": {},
   "outputs": [],
   "source": [
    "negGraph = nx.DiGraph()\n",
    "\n",
    "for element in negGraphText:\n",
    "    negGraph = nx.compose(createGraph(element, 3), negGraph)"
   ]
  },
  {
   "cell_type": "code",
   "execution_count": 8,
   "metadata": {},
   "outputs": [
    {
     "name": "stdout",
     "output_type": "stream",
     "text": [
      "151288\n"
     ]
    }
   ],
   "source": [
    "print(len(negGraph.edges()))"
   ]
  },
  {
   "cell_type": "code",
   "execution_count": 11,
   "metadata": {},
   "outputs": [],
   "source": [
    "import pickle\n",
    "\n",
    "dataArray = [posCount, negCount, top5000Pos, top5000Neg, posGraphText, negGraphText, posGraph, negGraph]\n",
    "\n",
    "outfile = open('pickledData', 'wb')\n",
    "pickle.dump(dataArray, outfile)\n",
    "outfile.close()"
   ]
  },
  {
   "cell_type": "code",
   "execution_count": null,
   "metadata": {},
   "outputs": [],
   "source": [
    "dfDM.loc[50000,:]"
   ]
  },
  {
   "cell_type": "code",
   "execution_count": null,
   "metadata": {},
   "outputs": [],
   "source": [
    "# sampleText = dfDM.loc[50000,'text']\n",
    "# sampleGraph = createGraph(sampleText, 3)\n",
    "# print(nx.graph_edit_distance(sampleGraph, posGraph))"
   ]
  }
 ],
 "metadata": {
  "kernelspec": {
   "display_name": "Python 3",
   "language": "python",
   "name": "python3"
  },
  "language_info": {
   "codemirror_mode": {
    "name": "ipython",
    "version": 3
   },
   "file_extension": ".py",
   "mimetype": "text/x-python",
   "name": "python",
   "nbconvert_exporter": "python",
   "pygments_lexer": "ipython3",
   "version": "3.7.0"
  }
 },
 "nbformat": 4,
 "nbformat_minor": 2
}
